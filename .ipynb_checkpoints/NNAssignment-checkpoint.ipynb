{
 "cells": [
  {
   "cell_type": "code",
   "execution_count": 1,
   "metadata": {
    "id": "jA8HQp5xky55"
   },
   "outputs": [
    {
     "name": "stderr",
     "output_type": "stream",
     "text": [
      "/Users/arvindyadav/Library/Python/3.9/lib/python/site-packages/urllib3/__init__.py:34: NotOpenSSLWarning: urllib3 v2 only supports OpenSSL 1.1.1+, currently the 'ssl' module is compiled with 'LibreSSL 2.8.3'. See: https://github.com/urllib3/urllib3/issues/3020\n",
      "  warnings.warn(\n"
     ]
    }
   ],
   "source": [
    "import numpy as np\n",
    "import tensorflow as tf"
   ]
  },
  {
   "cell_type": "code",
   "execution_count": 2,
   "metadata": {
    "id": "LNvVBUhqk77I"
   },
   "outputs": [],
   "source": [
    "from tensorflow.keras.preprocessing.image import ImageDataGenerator\n",
    "from tensorflow.keras.models import Sequential\n",
    "from tensorflow.keras.regularizers import l2\n",
    "from tensorflow.keras.layers import Dense, Flatten, Dropout, BatchNormalization\n",
    "import os\n",
    "from PIL import Image"
   ]
  },
  {
   "cell_type": "code",
   "execution_count": 18,
   "metadata": {
    "id": "rpnHIsGMm5Fo"
   },
   "outputs": [],
   "source": [
    "IMAGE_SIZE = (64, 64)\n",
    "BATCH_SIZE = 32\n",
    "TEST_SIZE = 0.1\n",
    "np.random.seed(42)\n",
    "tf.random.set_seed(42)"
   ]
  },
  {
   "cell_type": "code",
   "execution_count": 19,
   "metadata": {
    "id": "t_ILHeDLm9gK"
   },
   "outputs": [],
   "source": [
    "def load_images_from_folder(folder):\n",
    "    images = []\n",
    "    labels = []\n",
    "    for label in os.listdir(folder):\n",
    "        label_folder = os.path.join(folder, label)\n",
    "        for filename in os.listdir(label_folder):\n",
    "            if filename.endswith('.bmp'):\n",
    "                img_path = os.path.join(label_folder, filename)\n",
    "                img = Image.open(img_path).convert('L')  # Convert to grayscale\n",
    "                img = img.resize(IMAGE_SIZE)\n",
    "                img = np.array(img)\n",
    "                images.append(img)\n",
    "                labels.append(1 if label == 'bart' else 0)\n",
    "    return np.array(images), np.array(labels)"
   ]
  },
  {
   "cell_type": "code",
   "execution_count": 20,
   "metadata": {
    "id": "qxDfKUbfnBA5"
   },
   "outputs": [],
   "source": [
    "X, y = load_images_from_folder('homer_bart')\n",
    "X = X / 255.0"
   ]
  },
  {
   "cell_type": "code",
   "execution_count": 21,
   "metadata": {
    "id": "HN8YNrL-nHEt"
   },
   "outputs": [],
   "source": [
    "from sklearn.model_selection import train_test_split"
   ]
  },
  {
   "cell_type": "code",
   "execution_count": 22,
   "metadata": {
    "id": "-WQ2QsR6nKPi"
   },
   "outputs": [],
   "source": [
    "X_train, X_test, y_train, y_test = train_test_split(X, y, test_size=TEST_SIZE, random_state=42)\n"
   ]
  },
  {
   "cell_type": "code",
   "execution_count": 23,
   "metadata": {
    "id": "XQDJFGrxnNI8"
   },
   "outputs": [],
   "source": [
    "X_train = X_train.reshape(-1, 64*64)\n",
    "X_test = X_test.reshape(-1, 64*64)"
   ]
  },
  {
   "cell_type": "code",
   "execution_count": 24,
   "metadata": {
    "id": "kPiSFrpunRd-"
   },
   "outputs": [],
   "source": [
    "model = Sequential([\n",
    "    Dense(128, activation='relu', input_shape=(64*64,)),\n",
    "    # BatchNormalization(),\n",
    "    Dense(32, activation='relu'),\n",
    "    # BatchNormalization(),\n",
    "    Dense(8, activation='relu'),\n",
    "    # BatchNormalization(),\n",
    "    Dense(1, activation='sigmoid')\n",
    "])"
   ]
  },
  {
   "cell_type": "code",
   "execution_count": 25,
   "metadata": {
    "id": "r5LVoDbendLj"
   },
   "outputs": [],
   "source": [
    "\n",
    "model.compile(optimizer='adam', loss='binary_crossentropy', metrics=['accuracy'])\n"
   ]
  },
  {
   "cell_type": "code",
   "execution_count": 26,
   "metadata": {
    "colab": {
     "base_uri": "https://localhost:8080/"
    },
    "id": "SJBWvYrOplOG",
    "outputId": "e2f5ea1d-4672-40ff-8916-79a3c5d690ca"
   },
   "outputs": [
    {
     "name": "stdout",
     "output_type": "stream",
     "text": [
      "Epoch 1/20\n",
      "8/8 [==============================] - 0s 2ms/step - loss: 0.1263 - accuracy: 0.8678\n",
      "Epoch 2/20\n",
      "8/8 [==============================] - 0s 2ms/step - loss: 9.2512e-08 - accuracy: 1.0000\n",
      "Epoch 3/20\n",
      "8/8 [==============================] - 0s 2ms/step - loss: 1.3422e-08 - accuracy: 1.0000\n",
      "Epoch 4/20\n",
      "8/8 [==============================] - 0s 2ms/step - loss: 4.8083e-09 - accuracy: 1.0000\n",
      "Epoch 5/20\n",
      "8/8 [==============================] - 0s 2ms/step - loss: 3.7425e-09 - accuracy: 1.0000\n",
      "Epoch 6/20\n",
      "8/8 [==============================] - 0s 2ms/step - loss: 2.5645e-09 - accuracy: 1.0000\n",
      "Epoch 7/20\n",
      "8/8 [==============================] - 0s 2ms/step - loss: 2.3428e-09 - accuracy: 1.0000\n",
      "Epoch 8/20\n",
      "8/8 [==============================] - 0s 2ms/step - loss: 2.2565e-09 - accuracy: 1.0000\n",
      "Epoch 9/20\n",
      "8/8 [==============================] - 0s 2ms/step - loss: 2.1797e-09 - accuracy: 1.0000\n",
      "Epoch 10/20\n",
      "8/8 [==============================] - 0s 2ms/step - loss: 2.1349e-09 - accuracy: 1.0000\n",
      "Epoch 11/20\n",
      "8/8 [==============================] - 0s 2ms/step - loss: 2.1234e-09 - accuracy: 1.0000\n",
      "Epoch 12/20\n",
      "8/8 [==============================] - 0s 2ms/step - loss: 2.1029e-09 - accuracy: 1.0000\n",
      "Epoch 13/20\n",
      "8/8 [==============================] - 0s 2ms/step - loss: 2.0888e-09 - accuracy: 1.0000\n",
      "Epoch 14/20\n",
      "8/8 [==============================] - 0s 2ms/step - loss: 2.0822e-09 - accuracy: 1.0000\n",
      "Epoch 15/20\n",
      "8/8 [==============================] - 0s 2ms/step - loss: 2.0696e-09 - accuracy: 1.0000\n",
      "Epoch 16/20\n",
      "8/8 [==============================] - 0s 2ms/step - loss: 2.0617e-09 - accuracy: 1.0000\n",
      "Epoch 17/20\n",
      "8/8 [==============================] - 0s 2ms/step - loss: 2.0486e-09 - accuracy: 1.0000\n",
      "Epoch 18/20\n",
      "8/8 [==============================] - 0s 2ms/step - loss: 2.0455e-09 - accuracy: 1.0000\n",
      "Epoch 19/20\n",
      "8/8 [==============================] - 0s 2ms/step - loss: 2.0271e-09 - accuracy: 1.0000\n",
      "Epoch 20/20\n",
      "8/8 [==============================] - 0s 2ms/step - loss: 2.0227e-09 - accuracy: 1.0000\n"
     ]
    },
    {
     "data": {
      "text/plain": [
       "<keras.src.callbacks.History at 0x30d98d460>"
      ]
     },
     "execution_count": 26,
     "metadata": {},
     "output_type": "execute_result"
    }
   ],
   "source": [
    "model.fit(X_train, y_train, epochs=20, batch_size=BATCH_SIZE)\n"
   ]
  },
  {
   "cell_type": "code",
   "execution_count": 27,
   "metadata": {
    "colab": {
     "base_uri": "https://localhost:8080/"
    },
    "id": "64HYtX3fnfJ0",
    "outputId": "1874a40e-2b0e-47c1-d961-29bd34013f82"
   },
   "outputs": [
    {
     "name": "stdout",
     "output_type": "stream",
     "text": [
      "1/1 [==============================] - 0s 65ms/step - loss: 5.4713e-20 - accuracy: 1.0000\n",
      "Test Accuracy: 1.0\n"
     ]
    }
   ],
   "source": [
    "loss, accuracy = model.evaluate(X_test, y_test)\n",
    "print(f'Test Accuracy: {accuracy}')"
   ]
  }
 ],
 "metadata": {
  "colab": {
   "provenance": []
  },
  "kernelspec": {
   "display_name": "Python 3 (ipykernel)",
   "language": "python",
   "name": "python3"
  },
  "language_info": {
   "codemirror_mode": {
    "name": "ipython",
    "version": 3
   },
   "file_extension": ".py",
   "mimetype": "text/x-python",
   "name": "python",
   "nbconvert_exporter": "python",
   "pygments_lexer": "ipython3",
   "version": "3.9.6"
  }
 },
 "nbformat": 4,
 "nbformat_minor": 4
}
